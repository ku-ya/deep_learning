{
 "cells": [
  {
   "cell_type": "code",
   "execution_count": 465,
   "metadata": {
    "collapsed": false
   },
   "outputs": [],
   "source": [
    "from theano.sandbox import cuda\n",
    "cuda.use('gpu0')\n",
    "import tensorflow\n",
    "import os, sys\n",
    "current_dir = os.getcwd()\n",
    "from keras.layers import Merge\n",
    "import time\n",
    "# import imageio\n",
    "from keras.models import model_from_json\n",
    "import bcolz\n",
    "import pdb\n",
    "import tensorflow as tf\n",
    "import pandas as pd\n",
    "from keras.callbacks import LearningRateScheduler\n",
    "from model import *"
   ]
  },
  {
   "cell_type": "code",
   "execution_count": 466,
   "metadata": {
    "collapsed": true
   },
   "outputs": [],
   "source": [
    "import utils; reload(utils)\n",
    "import model; reload(model)\n",
    "from model import *\n",
    "from utils import *\n",
    "from IPython.display import FileLink\n",
    "%matplotlib inline\n",
    "from random import shuffle"
   ]
  },
  {
   "cell_type": "code",
   "execution_count": 467,
   "metadata": {
    "collapsed": true
   },
   "outputs": [],
   "source": [
    "seed = 7\n",
    "np.random.seed(seed)"
   ]
  },
  {
   "cell_type": "code",
   "execution_count": 468,
   "metadata": {
    "collapsed": false
   },
   "outputs": [],
   "source": [
    "vi = visualization()\n",
    "dh = data_handler()\n",
    "laser, rgb, depth, ret = dh.load(data_path = 'data/sensor/')\n",
    "\n",
    "laser_shuffle = []\n",
    "rgb_shuffle = []\n",
    "depth_shuffle = []\n",
    "index_shuf = range(laser.shape[0])\n",
    "shuffle(index_shuf)\n",
    "for i in index_shuf:\n",
    "    laser_shuffle.append(laser[i])\n",
    "    rgb_shuffle.append(rgb[i])\n",
    "    depth_shuffle.append(depth[i])"
   ]
  },
  {
   "cell_type": "code",
   "execution_count": 469,
   "metadata": {
    "collapsed": false
   },
   "outputs": [
    {
     "name": "stdout",
     "output_type": "stream",
     "text": [
      "Laser: (5843, 233)\n",
      "Depth: (5843, 40, 640, 1)\n",
      "RGB: (5843, 40, 640, 3)\n"
     ]
    }
   ],
   "source": [
    "laser = np.array(laser_shuffle)\n",
    "rgb = np.array(rgb_shuffle)\n",
    "depth = np.array(depth_shuffle)\n",
    "\n",
    "# km = keras_model(output_shape = laser.shape[1])\n",
    "\n",
    "print 'Laser: ' + str(laser.shape)\n",
    "print 'Depth: ' + str(depth.shape)\n",
    "print 'RGB: ' + str(rgb.shape)\n",
    "N = laser.shape[0]\n",
    "rgb_train = rgb\n",
    "\n",
    "batch_size = 64\n",
    "no_of_epochs = 1\n",
    "# km.compile()"
   ]
  },
  {
   "cell_type": "code",
   "execution_count": 470,
   "metadata": {
    "collapsed": false
   },
   "outputs": [],
   "source": [
    "# km.final_model.fit([depth, rgb], laser, validation_split = 0.2,nb_epoch=no_of_epochs, batch_size=batch_size,callbacks=[km.tbCallback, km.lrate])"
   ]
  },
  {
   "cell_type": "code",
   "execution_count": 471,
   "metadata": {
    "collapsed": false
   },
   "outputs": [],
   "source": [
    "def mean_squared_error_exp(y_true, y_pred):\n",
    "#     diff = K.abs((y_true - y_pred) / K.clip(K.abs(y_true),K.epsilon(),None))\n",
    "    return K.mean(K.square(y_pred - y_true), axis=-1) + K.mean(K.square(tf.maximum(0.,y_pred-y_true)),axis=-1) + K.mean(K.square(tf.maximum(0.,-(y_pred+0.5))),axis=-1)\n",
    "#+ K.mean(tf.log(1.+tf.exp(y_pred-(y_true+0.3))) ,axis=-1)\n",
    "#+10.*K.mean(tf.log(1.+tf.exp(10.*(-y_pred+0.3))),axis=-1)+K.mean(tf.log(1+tf.exp(y_pred-(y_true+0.3))) ,axis=-1)\n",
    "#+100. * K.mean(diff, axis=-1)\n",
    "# (1e-6/(1+tf.exp(y_pred*100-0.3)"
   ]
  },
  {
   "cell_type": "code",
   "execution_count": 472,
   "metadata": {
    "collapsed": false
   },
   "outputs": [],
   "source": [
    "def conv1():\n",
    "    rgb_model = Sequential([\n",
    "            BatchNormalization(axis=1, input_shape=(40,640,3)),\n",
    "            Convolution2D(16,3,3, activation='relu',dim_ordering = 'tf'),\n",
    "            MaxPooling2D((2,2)),\n",
    "            BatchNormalization(axis=1),\n",
    "            Convolution2D(16,3,3, activation='relu',dim_ordering = 'tf'),\n",
    "            MaxPooling2D((2,3)),\n",
    "            BatchNormalization(axis=1),\n",
    "            Convolution2D(64,1,3, activation='relu',dim_ordering = 'tf'),\n",
    "#             Convolution2D(32,1,3, activation='relu',dim_ordering = 'tf'),\n",
    "            MaxPooling2D((1,4)),\n",
    "            BatchNormalization(axis=1),\n",
    "#             MaxPooling2D((1,3)),\n",
    "#             Convolution2D(64,1,11, activation='relu',dim_ordering = 'tf'),\n",
    "#             MaxPooling2D((2,3)),\n",
    "            Flatten()\n",
    "#             Dense(200, activation='relu'),\n",
    "#             BatchNormalization(),\n",
    "#             Dense(233, activation='linear')\n",
    "        ])\n",
    "    depth_model = Sequential([\n",
    "            BatchNormalization(axis=1, input_shape=(40,640,1)),\n",
    "            Convolution2D(16,3,3, activation='linear',border_mode='same',dim_ordering = 'tf'),\n",
    "            AveragePooling2D((2,2)),\n",
    "            BatchNormalization(axis=1),\n",
    "            Convolution2D(16,3,3, activation='relu',border_mode='same',dim_ordering = 'tf'),\n",
    "            Convolution2D(64,3,3, activation='relu',border_mode='same',dim_ordering = 'tf'),\n",
    "            AveragePooling2D((2,2)),\n",
    "            BatchNormalization(axis=1),\n",
    "            Convolution2D(64,1,3, activation='relu',dim_ordering = 'tf'),\n",
    "            AveragePooling2D((2,4)),\n",
    "            BatchNormalization(axis=1),\n",
    "#             Convolution2D(128,1,3, activation='relu',border_mode='same',dim_ordering = 'tf'),\n",
    "#             AveragePooling2D((2,5)),\n",
    "#             BatchNormalization(axis=1),\n",
    "            Flatten()\n",
    "#             Dense(640, activation='relu')\n",
    "#             Dense(512, activation='relu')\n",
    "#             Dense(640, activation='relu')\n",
    "#             BatchNormalization()\n",
    "#             Dense(233, activation='linear')\n",
    "        ]) \n",
    "    final_model = Sequential()\n",
    "    final_model.add(Merge([rgb_model, depth_model],mode='concat'))\n",
    "    final_model.add(Dropout(0.6))\n",
    "    final_model.add(BatchNormalization())\n",
    "    final_model.add(Dense(512, activation='relu',init='lecun_uniform'))\n",
    "    final_model.add(Dropout(0.5))\n",
    "    final_model.add(BatchNormalization())\n",
    "    final_model.add(Dense(233, activation='linear', init='lecun_uniform'))\n",
    "    \n",
    "\n",
    "#     model.fit_generator([rgb, laser],laser.shape[0], nb_epoch=no_of_epochs)\n",
    "#     model.optimizer.lr = 0.001\n",
    "#     model.fit_generator(depth, laser, validation_split = 0.2,nb_epoch=no_of_epochs, batch_size=batch_size)\n",
    "    return final_model\n",
    "\n",
    "model = conv1()\n",
    "sgd = SGD(lr=0.0, decay=1e-4, momentum=0.9, nesterov=True)\n",
    "model.compile(optimizer = sgd, loss='mse')\n",
    "# mean_squared_error_exp"
   ]
  },
  {
   "cell_type": "code",
   "execution_count": 473,
   "metadata": {
    "collapsed": false
   },
   "outputs": [
    {
     "name": "stdout",
     "output_type": "stream",
     "text": [
      "____________________________________________________________________________________________________\n",
      "Layer (type)                     Output Shape          Param #     Connected to                     \n",
      "====================================================================================================\n",
      "batchnormalization_245 (BatchNor (None, 40, 640, 3)    160                                          \n",
      "____________________________________________________________________________________________________\n",
      "convolution2d_176 (Convolution2D (None, 38, 638, 16)   448                                          \n",
      "____________________________________________________________________________________________________\n",
      "maxpooling2d_76 (MaxPooling2D)   (None, 19, 319, 16)   0                                            \n",
      "____________________________________________________________________________________________________\n",
      "batchnormalization_246 (BatchNor (None, 19, 319, 16)   76                                           \n",
      "____________________________________________________________________________________________________\n",
      "convolution2d_177 (Convolution2D (None, 17, 317, 16)   2320                                         \n",
      "____________________________________________________________________________________________________\n",
      "maxpooling2d_77 (MaxPooling2D)   (None, 8, 105, 16)    0                                            \n",
      "____________________________________________________________________________________________________\n",
      "batchnormalization_247 (BatchNor (None, 8, 105, 16)    32                                           \n",
      "____________________________________________________________________________________________________\n",
      "convolution2d_178 (Convolution2D (None, 8, 103, 64)    3136                                         \n",
      "____________________________________________________________________________________________________\n",
      "maxpooling2d_78 (MaxPooling2D)   (None, 8, 25, 64)     0                                            \n",
      "____________________________________________________________________________________________________\n",
      "batchnormalization_248 (BatchNor (None, 8, 25, 64)     32                                           \n",
      "____________________________________________________________________________________________________\n",
      "flatten_51 (Flatten)             (None, 12800)         0                                            \n",
      "____________________________________________________________________________________________________\n",
      "batchnormalization_249 (BatchNor (None, 40, 640, 1)    160                                          \n",
      "____________________________________________________________________________________________________\n",
      "convolution2d_179 (Convolution2D (None, 40, 640, 16)   160                                          \n",
      "____________________________________________________________________________________________________\n",
      "averagepooling2d_76 (AveragePool (None, 20, 320, 16)   0                                            \n",
      "____________________________________________________________________________________________________\n",
      "batchnormalization_250 (BatchNor (None, 20, 320, 16)   80                                           \n",
      "____________________________________________________________________________________________________\n",
      "convolution2d_180 (Convolution2D (None, 20, 320, 16)   2320                                         \n",
      "____________________________________________________________________________________________________\n",
      "convolution2d_181 (Convolution2D (None, 20, 320, 64)   9280                                         \n",
      "____________________________________________________________________________________________________\n",
      "averagepooling2d_77 (AveragePool (None, 10, 160, 64)   0                                            \n",
      "____________________________________________________________________________________________________\n",
      "batchnormalization_251 (BatchNor (None, 10, 160, 64)   40                                           \n",
      "____________________________________________________________________________________________________\n",
      "convolution2d_182 (Convolution2D (None, 10, 158, 64)   12352                                        \n",
      "____________________________________________________________________________________________________\n",
      "averagepooling2d_78 (AveragePool (None, 5, 39, 64)     0                                            \n",
      "____________________________________________________________________________________________________\n",
      "batchnormalization_252 (BatchNor (None, 5, 39, 64)     20                                           \n",
      "____________________________________________________________________________________________________\n",
      "flatten_52 (Flatten)             (None, 12480)         0                                            \n",
      "____________________________________________________________________________________________________\n",
      "dropout_54 (Dropout)             (None, 25280)         0           merge_26[0][0]                   \n",
      "____________________________________________________________________________________________________\n",
      "batchnormalization_253 (BatchNor (None, 25280)         101120      dropout_54[0][0]                 \n",
      "____________________________________________________________________________________________________\n",
      "dense_46 (Dense)                 (None, 512)           12943872    batchnormalization_253[0][0]     \n",
      "____________________________________________________________________________________________________\n",
      "dropout_55 (Dropout)             (None, 512)           0           dense_46[0][0]                   \n",
      "____________________________________________________________________________________________________\n",
      "batchnormalization_254 (BatchNor (None, 512)           2048        dropout_55[0][0]                 \n",
      "____________________________________________________________________________________________________\n",
      "dense_47 (Dense)                 (None, 233)           119529      batchnormalization_254[0][0]     \n",
      "====================================================================================================\n",
      "Total params: 13,197,185\n",
      "Trainable params: 13,145,301\n",
      "Non-trainable params: 51,884\n",
      "____________________________________________________________________________________________________\n"
     ]
    }
   ],
   "source": [
    "model.summary()"
   ]
  },
  {
   "cell_type": "code",
   "execution_count": 474,
   "metadata": {
    "collapsed": false
   },
   "outputs": [],
   "source": [
    "#model.load_weights('models/model_notebook.h5')"
   ]
  },
  {
   "cell_type": "code",
   "execution_count": 475,
   "metadata": {
    "collapsed": false
   },
   "outputs": [],
   "source": [
    "def step_decay(epoch):\n",
    "    initial_lrate = 0.1\n",
    "    drop = 0.5\n",
    "    epochs_drop = 10.0\n",
    "    lrate = initial_lrate * math.pow(drop, math.floor((1+epoch)/epochs_drop))\n",
    "    return lrate\n",
    "lrate = LearningRateScheduler(step_decay)"
   ]
  },
  {
   "cell_type": "code",
   "execution_count": 476,
   "metadata": {
    "collapsed": false
   },
   "outputs": [],
   "source": [
    "# model.optimizer.lr=0.1\n",
    "# tbCallback=keras.callbacks.TensorBoard(log_dir='./logs', histogram_freq=0, write_graph=True, write_images=False)"
   ]
  },
  {
   "cell_type": "code",
   "execution_count": null,
   "metadata": {
    "collapsed": false,
    "scrolled": true
   },
   "outputs": [
    {
     "name": "stdout",
     "output_type": "stream",
     "text": [
      "Train on 4640 samples, validate on 1160 samples\n",
      "Epoch 1/100\n",
      "1408/4640 [========>.....................] - ETA: 120s - loss: 3.8732"
     ]
    }
   ],
   "source": [
    "N_s = 0\n",
    "N = N_s + 5800\n",
    "laser_s = laser[N_s:N,:]\n",
    "rgb_s = rgb[N_s:N,:,:,:]\n",
    "depth_s = depth[N_s:N,:,:]\n",
    "batch_size = 64\n",
    "no_of_epochs = 100\n",
    "# validation_split = 0.2\n",
    "model.fit([rgb_s,depth_s], laser_s, nb_epoch=no_of_epochs, validation_split = 0.2, batch_size=batch_size,callbacks=[lrate])"
   ]
  },
  {
   "cell_type": "code",
   "execution_count": 483,
   "metadata": {
    "collapsed": false
   },
   "outputs": [
    {
     "data": {
      "text/plain": [
       "[<matplotlib.lines.Line2D at 0x7f37deb18c50>]"
      ]
     },
     "execution_count": 483,
     "metadata": {},
     "output_type": "execute_result"
    },
    {
     "data": {
      "image/png": "[encoded data removed]",
      "text/plain": [
       "<matplotlib.figure.Figure at 0x7f37df548310>"
      ]
     },
     "metadata": {},
     "output_type": "display_data"
    }
   ],
   "source": [
    "N = 3000\n",
    "# result = model.predict([depth[N:N+1,:,:,:]])\n",
    "result = model.predict([rgb[N:N+1,:,:,:], depth[N:N+1,:,:,:]])\n",
    "pose = [0.,0.,0.]\n",
    "vi.depth_plot(np.mean(depth[N,:,:,:],axis=0),pose)\n",
    "vi.laser_plot(laser[N,:],pose)\n",
    "vi.laser_plot2(result[0],pose)\n",
    "plt.plot(0,0,'or')"
   ]
  },
  {
   "cell_type": "code",
   "execution_count": 479,
   "metadata": {
    "collapsed": false
   },
   "outputs": [
    {
     "data": {
      "text/plain": [
       "array([[ 5.5462,  5.9255,  5.8131,  5.8064,  5.87  ,  5.9383,  5.6221,  5.4509,  5.7628,  5.6558,\n",
       "         5.4509,  5.886 ,  6.0673,  5.9164,  5.9588,  6.1558,  5.9831,  6.0311,  5.8331,  5.6036,\n",
       "         5.6095,  5.2757,  5.5735,  5.4374,  5.4898,  5.456 ,  5.465 ,  5.3735,  5.0352,  4.8171,\n",
       "         4.9657,  4.8404,  4.58  ,  4.7014,  4.5618,  4.6617,  4.7934,  4.954 ,  4.9521,  5.0212,\n",
       "         5.0552,  5.0527,  4.9574,  5.2319,  5.0851,  5.2047,  5.3807,  5.3234,  5.5696,  5.3723,\n",
       "         5.6918,  5.5558,  5.4399,  5.6571,  5.5447,  5.3257,  5.3109,  5.077 ,  5.4054,  5.4006,\n",
       "         5.3415,  5.3605,  5.4141,  5.176 ,  5.2676,  4.9509,  5.0203,  5.206 ,  5.0897,  5.0747,\n",
       "         5.1385,  4.8448,  4.885 ,  5.0117,  5.0023,  4.8284,  4.921 ,  4.8648,  5.0365,  4.9051,\n",
       "         5.0637,  4.7242,  4.9003,  4.999 ,  4.6692,  4.9293,  4.7317,  4.8337,  4.518 ,  4.6623,\n",
       "         4.8582,  4.7707,  4.7154,  4.5785,  4.5488,  4.7771,  4.8737,  4.6738,  4.8156,  5.0425,\n",
       "         4.9304,  5.2062,  4.8452,  4.8311,  4.6427,  4.6513,  4.5557,  5.1111,  5.0403,  4.6949,\n",
       "         4.6799,  4.3711,  4.4986,  4.5595,  4.5348,  4.3537,  4.4255,  4.394 ,  4.5159,  4.5486,\n",
       "         4.3447,  4.5842,  4.4798,  4.5932,  4.6338,  4.2295,  4.5493,  4.7244,  4.7991,  4.6421,\n",
       "         4.995 ,  5.2432,  5.0725,  5.0946,  5.1317,  5.5484,  4.9056,  5.1592,  4.9367,  5.1095,\n",
       "         4.9052,  5.0961,  5.2109,  5.1918,  5.0471,  5.5789,  5.1173,  5.3072,  5.3121,  5.5266,\n",
       "         5.621 ,  5.7888,  5.3771,  5.8539,  5.9934,  6.0115,  5.9746,  6.2375,  6.0574,  6.2667,\n",
       "         6.2188,  6.0804,  6.3609,  6.5477,  6.1672,  6.691 ,  6.5188,  6.5128,  6.7058,  6.3713,\n",
       "         6.4725,  6.4898,  6.7014,  6.7479,  6.5794,  6.8575,  6.8915,  6.6803,  7.0185,  6.7109,\n",
       "         6.6509,  6.3916,  6.9283,  6.6982,  6.7632,  6.9804,  6.8409,  7.0024,  6.1407,  5.8769,\n",
       "         6.2855,  5.8569,  6.2629,  6.4542,  6.6212,  6.4881,  6.9157,  6.8076,  6.8996,  7.2046,\n",
       "         7.1009,  6.8208,  6.6889,  6.97  ,  6.5694,  6.8135,  6.6401,  7.3351,  6.8261,  6.8993,\n",
       "         6.7489,  6.9808,  6.8224,  6.6824,  6.8959,  6.6198,  6.5383,  6.1779,  6.3828,  6.4543,\n",
       "         6.6073,  6.2993,  6.4278,  6.2422,  6.601 ,  6.4609,  6.5467,  6.6899,  6.6481,  6.6141,\n",
       "         6.5744,  6.6912,  6.5771]], dtype=float32)"
      ]
     },
     "execution_count": 479,
     "metadata": {},
     "output_type": "execute_result"
    }
   ],
   "source": [
    "result"
   ]
  },
  {
   "cell_type": "code",
   "execution_count": 480,
   "metadata": {
    "collapsed": false
   },
   "outputs": [
    {
     "name": "stdout",
     "output_type": "stream",
     "text": [
      "Saved model to disk\n"
     ]
    }
   ],
   "source": [
    "model_json = model.to_json()\n",
    "with open(\"models/model.json\", \"w\") as json_file:\n",
    "    json_file.write(model_json)\n",
    "# serialize weights to HDF5\n",
    "json_file.close()\n",
    "model.save_weights(\"models/model_notebook.h5\")\n",
    "print(\"Saved model to disk\")"
   ]
  },
  {
   "cell_type": "code",
   "execution_count": null,
   "metadata": {
    "collapsed": true
   },
   "outputs": [],
   "source": []
  }
 ],
 "metadata": {
  "anaconda-cloud": {},
  "kernelspec": {
   "display_name": "Python [conda root]",
   "language": "python",
   "name": "conda-root-py"
  },
  "language_info": {
   "codemirror_mode": {
    "name": "ipython",
    "version": 2
   },
   "file_extension": ".py",
   "mimetype": "text/x-python",
   "name": "python",
   "nbconvert_exporter": "python",
   "pygments_lexer": "ipython2",
   "version": "2.7.12"
  }
 },
 "nbformat": 4,
 "nbformat_minor": 1
}
