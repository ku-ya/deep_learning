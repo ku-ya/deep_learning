{
 "cells": [
  {
   "cell_type": "code",
   "execution_count": 4,
   "metadata": {
    "collapsed": false
   },
   "outputs": [
    {
     "name": "stderr",
     "output_type": "stream",
     "text": [
      "Using TensorFlow backend.\n"
     ]
    }
   ],
   "source": [
    "# from theano.sandbox import cuda\n",
    "# cuda.use('gpu0')\n",
    "import tensorflow\n",
    "import os, sys\n",
    "current_dir = os.getcwd()\n",
    "from keras.layers import Merge\n",
    "import time\n",
    "# import imageio\n",
    "from keras.models import model_from_json\n",
    "import bcolz\n",
    "import pdb\n",
    "import tensorflow as tf\n",
    "import pandas as pd\n",
    "from keras.callbacks import LearningRateScheduler"
   ]
  },
  {
   "cell_type": "code",
   "execution_count": 210,
   "metadata": {
    "collapsed": false
   },
   "outputs": [],
   "source": [
    "import utils; reload(utils)\n",
    "import model_util; reload(model_util)\n",
    "from model_util import *\n",
    "from utils import *\n",
    "from IPython.display import FileLink\n",
    "%matplotlib inline\n",
    "from random import shuffle\n",
    "from matplotlib import rc\n",
    "# rc('font',**{'family':'sans-serif','sans-serif':['Helvetica']})\n",
    "rc('text', usetex=True)\n",
    "plt.rc('font', family='serif')"
   ]
  },
  {
   "cell_type": "code",
   "execution_count": 7,
   "metadata": {
    "collapsed": true
   },
   "outputs": [],
   "source": [
    "seed = 7\n",
    "np.random.seed(seed)"
   ]
  },
  {
   "cell_type": "code",
   "execution_count": 211,
   "metadata": {
    "collapsed": false
   },
   "outputs": [],
   "source": [
    "vi = visualization()"
   ]
  },
  {
   "cell_type": "code",
   "execution_count": 8,
   "metadata": {
    "collapsed": false
   },
   "outputs": [],
   "source": [
    "dh = data_handler()\n",
    "laser, rgb, depth, ret = dh.load(data_path = 'data/sensor/')\n",
    "\n",
    "laser_shuffle = []\n",
    "rgb_shuffle = []\n",
    "depth_shuffle = []\n",
    "index_shuf = range(laser.shape[0])\n",
    "shuffle(index_shuf)\n",
    "for i in index_shuf:\n",
    "    laser_shuffle.append(laser[i])\n",
    "    rgb_shuffle.append(rgb[i])\n",
    "    depth_shuffle.append(depth[i])"
   ]
  },
  {
   "cell_type": "code",
   "execution_count": 9,
   "metadata": {
    "collapsed": false
   },
   "outputs": [
    {
     "name": "stdout",
     "output_type": "stream",
     "text": [
      "Laser: (4756, 121)\n",
      "Depth: (4756, 40, 640, 1)\n",
      "RGB: (4756, 40, 640, 3)\n"
     ]
    }
   ],
   "source": [
    "laser = np.array(laser_shuffle)\n",
    "rgb = np.array(rgb_shuffle)\n",
    "depth = np.array(depth_shuffle)\n",
    "\n",
    "# km = keras_model(output_shape = laser.shape[1])\n",
    "\n",
    "print 'Laser: ' + str(laser.shape)\n",
    "print 'Depth: ' + str(depth.shape)\n",
    "print 'RGB: ' + str(rgb.shape)\n",
    "N = laser.shape[0]\n",
    "rgb_train = rgb\n",
    "\n",
    "batch_size = 64\n",
    "no_of_epochs = 1\n",
    "# km.compile()\n"
   ]
  },
  {
   "cell_type": "code",
   "execution_count": 206,
   "metadata": {
    "collapsed": false
   },
   "outputs": [],
   "source": [
    "# km.final_model.fit([depth, rgb], laser, validation_split = 0.2,nb_epoch=no_of_epochs, batch_size=batch_size,callbacks=[km.tbCallback, km.lrate])"
   ]
  },
  {
   "cell_type": "code",
   "execution_count": 207,
   "metadata": {
    "collapsed": false
   },
   "outputs": [],
   "source": [
    "def mean_squared_error_exp(y_true, y_pred):\n",
    "#     diff = K.abs((y_true - y_pred) / K.clip(K.abs(y_true),K.epsilon(),None))\n",
    "    return K.mean(K.square(y_pred - y_true), axis=-1) + K.mean(K.square(tf.maximum(0.,y_pred-y_true)),axis=-1) + K.mean(K.square(tf.maximum(0.,-(y_pred+0.5))),axis=-1)\n",
    "#+ K.mean(tf.log(1.+tf.exp(y_pred-(y_true+0.3))) ,axis=-1)\n",
    "#+10.*K.mean(tf.log(1.+tf.exp(10.*(-y_pred+0.3))),axis=-1)+K.mean(tf.log(1+tf.exp(y_pred-(y_true+0.3))) ,axis=-1)\n",
    "#+100. * K.mean(diff, axis=-1)\n",
    "# (1e-6/(1+tf.exp(y_pred*100-0.3)"
   ]
  },
  {
   "cell_type": "code",
   "execution_count": 208,
   "metadata": {
    "collapsed": false
   },
   "outputs": [],
   "source": [
    "def conv1():\n",
    "    rgb_model = Sequential([\n",
    "            BatchNormalization(axis=1, input_shape=(40,640,3)),\n",
    "            Convolution2D(8,3,3, activation='relu',dim_ordering = 'tf'),\n",
    "            MaxPooling2D((2,2)),\n",
    "            BatchNormalization(axis=1),\n",
    "            Convolution2D(8,3,3, activation='relu',dim_ordering = 'tf'),\n",
    "            MaxPooling2D((2,2)),\n",
    "            BatchNormalization(axis=1),\n",
    "            Convolution2D(32,3,3, activation='relu',dim_ordering = 'tf'),\n",
    "#             Convolution2D(32,1,3, activation='relu',dim_ordering = 'tf'),\n",
    "            MaxPooling2D((4,4)),\n",
    "            BatchNormalization(axis=1),\n",
    "#             MaxPooling2D((1,3)),\n",
    "#             Convolution2D(64,1,11, activation='relu',dim_ordering = 'tf'),\n",
    "#             MaxPooling2D((2,3)),\n",
    "            Flatten()\n",
    "#             Dense(200, activation='relu'),\n",
    "#             BatchNormalization(),\n",
    "#             Dense(233, activation='linear')\n",
    "        ])\n",
    "    depth_model = Sequential([\n",
    "            BatchNormalization(axis=1, input_shape=(40,640,1)),\n",
    "            Convolution2D(8,3,3, activation='linear',border_mode='same',dim_ordering = 'tf'),\n",
    "            AveragePooling2D((3,3)),\n",
    "            BatchNormalization(axis=1),\n",
    "            Convolution2D(8,3,3, activation='relu',border_mode='same',dim_ordering = 'tf'),\n",
    "            Convolution2D(16,3,3, activation='relu',border_mode='same',dim_ordering = 'tf'),\n",
    "            AveragePooling2D((2,2)),\n",
    "            BatchNormalization(axis=1),\n",
    "            Convolution2D(16,3,3, activation='relu',dim_ordering = 'tf'),\n",
    "            AveragePooling2D((3,3)),\n",
    "            BatchNormalization(axis=1),\n",
    "            Convolution2D(128,1,3, activation='relu',border_mode='same',dim_ordering = 'tf'),\n",
    "            AveragePooling2D((1,3)),\n",
    "            BatchNormalization(axis=1),\n",
    "            Flatten()\n",
    "#             Dense(640, activation='relu')\n",
    "#             Dense(512, activation='relu')\n",
    "#             Dense(640, activation='relu')\n",
    "#             BatchNormalization()\n",
    "#             Dense(233, activation='linear')\n",
    "        ]) \n",
    "    final_model = Sequential()\n",
    "    final_model.add(Merge([rgb_model, depth_model],mode='concat'))\n",
    "    final_model.add(Dropout(0.5))\n",
    "    final_model.add(BatchNormalization())\n",
    "    final_model.add(Dense(512, activation='relu',init='lecun_uniform'))\n",
    "    final_model.add(Dropout(0.5))\n",
    "    final_model.add(BatchNormalization())\n",
    "    final_model.add(Dense(121, activation='linear', init='lecun_uniform'))\n",
    "    \n",
    "\n",
    "#     model.fit_generator([rgb, laser],laser.shape[0], nb_epoch=no_of_epochs)\n",
    "#     model.optimizer.lr = 0.001\n",
    "#     model.fit_generator(depth, laser, validation_split = 0.2,nb_epoch=no_of_epochs, batch_size=batch_size)\n",
    "    return final_model\n",
    "\n",
    "model = conv1()"
   ]
  },
  {
   "cell_type": "code",
   "execution_count": 209,
   "metadata": {
    "collapsed": true
   },
   "outputs": [],
   "source": [
    "def mean_squared_error_exp(y_true, y_pred):\n",
    "#     diff = K.abs((y_true - y_pred) / K.clip(K.abs(y_true),K.epsilon(),None))\n",
    "    return K.mean(K.square(y_pred - y_true), axis=-1) + K.mean(K.square(tf.maximum(0.,y_pred-y_true)),axis=-1) + K.mean(K.square(tf.maximum(0.,-(y_pred+0.5))),axis=-1)\n",
    "#+ K.mean(tf.log(1.+tf.exp(y_pred-(y_true+0.3))) ,axis=-1)\n",
    "#+10.*K.mean(tf.log(1.+tf.exp(10.*(-y_pred+0.3))),axis=-1)+K.mean(tf.log(1+tf.exp(y_pred-(y_true+0.3))) ,axis=-1)\n",
    "#+100. * K.mean(diff, axis=-1)\n",
    "# (1e-6/(1+tf.exp(y_pred*100-0.3)"
   ]
  },
  {
   "cell_type": "code",
   "execution_count": 210,
   "metadata": {
    "collapsed": true
   },
   "outputs": [],
   "source": [
    "sgd = SGD(lr=0.0, decay=1e-4, momentum=0.9, nesterov=True)\n",
    "model.compile(optimizer = sgd, loss='mse')\n",
    "# mean_squared_error_exp"
   ]
  },
  {
   "cell_type": "code",
   "execution_count": 211,
   "metadata": {
    "collapsed": false
   },
   "outputs": [
    {
     "name": "stdout",
     "output_type": "stream",
     "text": [
      "____________________________________________________________________________________________________\n",
      "Layer (type)                     Output Shape          Param #     Connected to                     \n",
      "====================================================================================================\n",
      "batchnormalization_144 (BatchNor (None, 40, 640, 3)    160                                          \n",
      "____________________________________________________________________________________________________\n",
      "convolution2d_108 (Convolution2D (None, 38, 638, 8)    224                                          \n",
      "____________________________________________________________________________________________________\n",
      "maxpooling2d_43 (MaxPooling2D)   (None, 19, 319, 8)    0                                            \n",
      "____________________________________________________________________________________________________\n",
      "batchnormalization_145 (BatchNor (None, 19, 319, 8)    76                                           \n",
      "____________________________________________________________________________________________________\n",
      "convolution2d_109 (Convolution2D (None, 17, 317, 8)    584                                          \n",
      "____________________________________________________________________________________________________\n",
      "maxpooling2d_44 (MaxPooling2D)   (None, 8, 158, 8)     0                                            \n",
      "____________________________________________________________________________________________________\n",
      "batchnormalization_146 (BatchNor (None, 8, 158, 8)     32                                           \n",
      "____________________________________________________________________________________________________\n",
      "convolution2d_110 (Convolution2D (None, 6, 156, 32)    2336                                         \n",
      "____________________________________________________________________________________________________\n",
      "maxpooling2d_45 (MaxPooling2D)   (None, 1, 39, 32)     0                                            \n",
      "____________________________________________________________________________________________________\n",
      "batchnormalization_147 (BatchNor (None, 1, 39, 32)     4                                            \n",
      "____________________________________________________________________________________________________\n",
      "flatten_29 (Flatten)             (None, 1248)          0                                            \n",
      "____________________________________________________________________________________________________\n",
      "batchnormalization_148 (BatchNor (None, 40, 640, 1)    160                                          \n",
      "____________________________________________________________________________________________________\n",
      "convolution2d_111 (Convolution2D (None, 40, 640, 8)    80                                           \n",
      "____________________________________________________________________________________________________\n",
      "averagepooling2d_52 (AveragePool (None, 13, 213, 8)    0                                            \n",
      "____________________________________________________________________________________________________\n",
      "batchnormalization_149 (BatchNor (None, 13, 213, 8)    52                                           \n",
      "____________________________________________________________________________________________________\n",
      "convolution2d_112 (Convolution2D (None, 13, 213, 8)    584                                          \n",
      "____________________________________________________________________________________________________\n",
      "convolution2d_113 (Convolution2D (None, 13, 213, 16)   1168                                         \n",
      "____________________________________________________________________________________________________\n",
      "averagepooling2d_53 (AveragePool (None, 6, 106, 16)    0                                            \n",
      "____________________________________________________________________________________________________\n",
      "batchnormalization_150 (BatchNor (None, 6, 106, 16)    24                                           \n",
      "____________________________________________________________________________________________________\n",
      "convolution2d_114 (Convolution2D (None, 4, 104, 16)    2320                                         \n",
      "____________________________________________________________________________________________________\n",
      "averagepooling2d_54 (AveragePool (None, 1, 34, 16)     0                                            \n",
      "____________________________________________________________________________________________________\n",
      "batchnormalization_151 (BatchNor (None, 1, 34, 16)     4                                            \n",
      "____________________________________________________________________________________________________\n",
      "convolution2d_115 (Convolution2D (None, 1, 34, 128)    6272                                         \n",
      "____________________________________________________________________________________________________\n",
      "averagepooling2d_55 (AveragePool (None, 1, 11, 128)    0                                            \n",
      "____________________________________________________________________________________________________\n",
      "batchnormalization_152 (BatchNor (None, 1, 11, 128)    4                                            \n",
      "____________________________________________________________________________________________________\n",
      "flatten_30 (Flatten)             (None, 1408)          0                                            \n",
      "____________________________________________________________________________________________________\n",
      "dropout_27 (Dropout)             (None, 2656)          0           merge_14[0][0]                   \n",
      "____________________________________________________________________________________________________\n",
      "batchnormalization_153 (BatchNor (None, 2656)          10624       dropout_27[0][0]                 \n",
      "____________________________________________________________________________________________________\n",
      "dense_27 (Dense)                 (None, 512)           1360384     batchnormalization_153[0][0]     \n",
      "____________________________________________________________________________________________________\n",
      "dropout_28 (Dropout)             (None, 512)           0           dense_27[0][0]                   \n",
      "____________________________________________________________________________________________________\n",
      "batchnormalization_154 (BatchNor (None, 512)           2048        dropout_28[0][0]                 \n",
      "____________________________________________________________________________________________________\n",
      "dense_28 (Dense)                 (None, 121)           62073       batchnormalization_154[0][0]     \n",
      "====================================================================================================\n",
      "Total params: 1,449,213\n",
      "Trainable params: 1,442,619\n",
      "Non-trainable params: 6,594\n",
      "____________________________________________________________________________________________________\n"
     ]
    }
   ],
   "source": [
    "model.summary()"
   ]
  },
  {
   "cell_type": "code",
   "execution_count": 212,
   "metadata": {
    "collapsed": false
   },
   "outputs": [],
   "source": [
    "#model.load_weights('models/model_notebook.h5')"
   ]
  },
  {
   "cell_type": "code",
   "execution_count": 213,
   "metadata": {
    "collapsed": false
   },
   "outputs": [],
   "source": [
    "def step_decay(epoch):\n",
    "    initial_lrate = 0.1\n",
    "    drop = 0.5\n",
    "    epochs_drop = 10.0\n",
    "    lrate = initial_lrate * math.pow(drop, math.floor((1+epoch)/epochs_drop))\n",
    "    return lrate\n",
    "lrate = LearningRateScheduler(step_decay)"
   ]
  },
  {
   "cell_type": "code",
   "execution_count": 214,
   "metadata": {
    "collapsed": false
   },
   "outputs": [],
   "source": [
    "\n",
    "\n",
    "# model.optimizer.lr=0.1\n",
    "# tbCallback=keras.callbacks.TensorBoard(log_dir='./logs', histogram_freq=0, write_graph=True, write_images=False)"
   ]
  },
  {
   "cell_type": "code",
   "execution_count": 215,
   "metadata": {
    "collapsed": false,
    "scrolled": true
   },
   "outputs": [
    {
     "name": "stdout",
     "output_type": "stream",
     "text": [
      "Train on 320 samples, validate on 80 samples\n",
      "Epoch 1/50\n",
      "320/320 [==============================] - 5s - loss: 9.2916 - val_loss: 1411.8538\n",
      "Epoch 2/50\n",
      "320/320 [==============================] - 5s - loss: 6.0212 - val_loss: 41757.4441\n",
      "Epoch 3/50\n",
      "320/320 [==============================] - 5s - loss: 2.7151 - val_loss: 24141.2195\n",
      "Epoch 4/50\n",
      "320/320 [==============================] - 5s - loss: 1.6292 - val_loss: 7640.4596\n",
      "Epoch 5/50\n",
      "320/320 [==============================] - 5s - loss: 1.4988 - val_loss: 6969.0586\n",
      "Epoch 6/50\n",
      "320/320 [==============================] - 5s - loss: 1.2747 - val_loss: 19278.4879\n",
      "Epoch 7/50\n",
      "320/320 [==============================] - 5s - loss: 1.0940 - val_loss: 10325.2682\n",
      "Epoch 8/50\n",
      "320/320 [==============================] - 5s - loss: 1.0560 - val_loss: 8383.0188\n",
      "Epoch 9/50\n",
      "320/320 [==============================] - 5s - loss: 1.0290 - val_loss: 3826.2230\n",
      "Epoch 10/50\n",
      "320/320 [==============================] - 5s - loss: 0.9407 - val_loss: 1868.3803\n",
      "Epoch 11/50\n",
      "320/320 [==============================] - 5s - loss: 0.9083 - val_loss: 1091.5055\n",
      "Epoch 12/50\n",
      "320/320 [==============================] - 5s - loss: 0.9045 - val_loss: 644.2626\n",
      "Epoch 13/50\n",
      "320/320 [==============================] - 5s - loss: 0.8407 - val_loss: 390.4320\n",
      "Epoch 14/50\n",
      "320/320 [==============================] - 5s - loss: 0.8357 - val_loss: 272.4470\n",
      "Epoch 15/50\n",
      "320/320 [==============================] - 5s - loss: 0.7443 - val_loss: 180.6248\n",
      "Epoch 16/50\n",
      "320/320 [==============================] - 5s - loss: 0.7508 - val_loss: 110.4211\n",
      "Epoch 17/50\n",
      "320/320 [==============================] - 5s - loss: 0.8000 - val_loss: 74.3773\n",
      "Epoch 18/50\n",
      "320/320 [==============================] - 5s - loss: 0.7201 - val_loss: 55.9382\n",
      "Epoch 19/50\n",
      "320/320 [==============================] - 5s - loss: 0.7330 - val_loss: 44.4566\n",
      "Epoch 20/50\n",
      "320/320 [==============================] - 5s - loss: 0.6567 - val_loss: 40.2813\n",
      "Epoch 21/50\n",
      "320/320 [==============================] - 5s - loss: 0.7787 - val_loss: 31.7420\n",
      "Epoch 22/50\n",
      "320/320 [==============================] - 5s - loss: 0.7001 - val_loss: 23.1105\n",
      "Epoch 23/50\n",
      "320/320 [==============================] - 5s - loss: 0.6996 - val_loss: 16.7222\n",
      "Epoch 24/50\n",
      "320/320 [==============================] - 5s - loss: 0.6740 - val_loss: 12.9322\n",
      "Epoch 25/50\n",
      "320/320 [==============================] - 5s - loss: 0.6856 - val_loss: 9.7568\n",
      "Epoch 26/50\n",
      "320/320 [==============================] - 5s - loss: 0.6727 - val_loss: 7.3864\n",
      "Epoch 27/50\n",
      "320/320 [==============================] - 5s - loss: 0.6127 - val_loss: 5.8821\n",
      "Epoch 28/50\n",
      "320/320 [==============================] - 5s - loss: 0.6390 - val_loss: 5.3387\n",
      "Epoch 29/50\n",
      "320/320 [==============================] - 5s - loss: 0.6921 - val_loss: 4.3941\n",
      "Epoch 30/50\n",
      "320/320 [==============================] - 5s - loss: 0.6506 - val_loss: 3.9604\n",
      "Epoch 31/50\n",
      "320/320 [==============================] - 5s - loss: 0.6766 - val_loss: 3.3162\n",
      "Epoch 32/50\n",
      "320/320 [==============================] - 5s - loss: 0.6190 - val_loss: 2.6244\n",
      "Epoch 33/50\n",
      "320/320 [==============================] - 5s - loss: 0.6358 - val_loss: 2.0280\n",
      "Epoch 34/50\n",
      "320/320 [==============================] - 5s - loss: 0.5951 - val_loss: 1.7123\n",
      "Epoch 35/50\n",
      "320/320 [==============================] - 5s - loss: 0.6532 - val_loss: 1.5937\n",
      "Epoch 36/50\n",
      "320/320 [==============================] - 5s - loss: 0.6502 - val_loss: 1.4591\n",
      "Epoch 37/50\n",
      "320/320 [==============================] - 5s - loss: 0.5870 - val_loss: 1.3093\n",
      "Epoch 38/50\n",
      "320/320 [==============================] - 5s - loss: 0.6109 - val_loss: 1.0874\n",
      "Epoch 39/50\n",
      "320/320 [==============================] - 5s - loss: 0.5770 - val_loss: 0.9651\n",
      "Epoch 40/50\n",
      "320/320 [==============================] - 5s - loss: 0.6225 - val_loss: 0.8846\n",
      "Epoch 41/50\n",
      "320/320 [==============================] - 5s - loss: 0.5833 - val_loss: 0.8559\n",
      "Epoch 42/50\n",
      "320/320 [==============================] - 5s - loss: 0.6143 - val_loss: 0.8338\n",
      "Epoch 43/50\n",
      "320/320 [==============================] - 5s - loss: 0.5704 - val_loss: 0.7840\n",
      "Epoch 44/50\n",
      "320/320 [==============================] - 5s - loss: 0.5754 - val_loss: 0.7100\n",
      "Epoch 45/50\n",
      "320/320 [==============================] - 5s - loss: 0.6027 - val_loss: 0.6337\n",
      "Epoch 46/50\n",
      "320/320 [==============================] - 5s - loss: 0.6474 - val_loss: 0.5835\n",
      "Epoch 47/50\n",
      "320/320 [==============================] - 5s - loss: 0.6670 - val_loss: 0.5537\n",
      "Epoch 48/50\n",
      "320/320 [==============================] - 5s - loss: 0.6014 - val_loss: 0.5094\n",
      "Epoch 49/50\n",
      "320/320 [==============================] - 5s - loss: 0.5801 - val_loss: 0.4880\n",
      "Epoch 50/50\n",
      "320/320 [==============================] - 5s - loss: 0.6150 - val_loss: 0.4699\n"
     ]
    },
    {
     "data": {
      "text/plain": [
       "<keras.callbacks.History at 0x7f6fb8ca9850>"
      ]
     },
     "execution_count": 215,
     "metadata": {},
     "output_type": "execute_result"
    }
   ],
   "source": [
    "N_s = 0\n",
    "N = N_s + 400\n",
    "laser_s = laser[N_s:N,:]\n",
    "rgb_s = rgb[N_s:N,:,:,:]\n",
    "depth_s = depth[N_s:N,:,:]\n",
    "batch_size = 64\n",
    "no_of_epochs = 50\n",
    "# validation_split = 0.2\n",
    "model.fit([rgb_s,depth_s], laser_s, nb_epoch=no_of_epochs, validation_split = 0.2, batch_size=batch_size,callbacks=[lrate])"
   ]
  },
  {
   "cell_type": "code",
   "execution_count": 216,
   "metadata": {
    "collapsed": false
   },
   "outputs": [],
   "source": [
    "# N = 300\n",
    "# result = model.predict([depth[N:N+1,:,:,:]])\n",
    "# result = model.predict([rgb[N:N+1,:,:,:], depth[N:N+1,:,:,:]])\n",
    "# pose = [0.,0.,0.]\n",
    "# vi.depth_plot(np.mean(depth[N,15:35,:,:],axis=0),pose)\n",
    "# vi.laser_plot2(np.mean(depth[N,15:35,:,:],axis=0),640,'g')\n",
    "# vi.laser_plot2(laser[N,:],100,'b')\n",
    "# vi.laser_plot2(result[0],100,'r')\n",
    "# plt.plot(0,0,'or')"
   ]
  },
  {
   "cell_type": "code",
   "execution_count": null,
   "metadata": {
    "collapsed": false
   },
   "outputs": [],
   "source": []
  },
  {
   "cell_type": "code",
   "execution_count": 217,
   "metadata": {
    "collapsed": false
   },
   "outputs": [
    {
     "name": "stdout",
     "output_type": "stream",
     "text": [
      "Saved model to disk\n"
     ]
    }
   ],
   "source": [
    "model_json = model.to_json()\n",
    "with open(\"models/model_low_p.json\", \"w\") as json_file:\n",
    "    json_file.write(model_json)\n",
    "# serialize weights to HDF5\n",
    "json_file.close()\n",
    "model.save_weights(\"models/model_notebook_low_p.h5\")\n",
    "print(\"Saved model to disk\")"
   ]
  },
  {
   "cell_type": "code",
   "execution_count": 10,
   "metadata": {
    "collapsed": false
   },
   "outputs": [
    {
     "name": "stdout",
     "output_type": "stream",
     "text": [
      "Loaded model from disk\n"
     ]
    }
   ],
   "source": [
    "#  for paper use model_low.json with model_notebook_low.h5\n",
    "json_file = open('models/model_low.json', 'r')\n",
    "loaded_model_json = json_file.read()\n",
    "json_file.close()\n",
    "loaded_model = model_from_json(loaded_model_json)\n",
    "# load weights into new model\n",
    "loaded_model.load_weights(\"models/model_notebook_low.h5\")\n",
    "print(\"Loaded model from disk\")"
   ]
  },
  {
   "cell_type": "code",
   "execution_count": 323,
   "metadata": {
    "collapsed": false
   },
   "outputs": [
    {
     "data": {
      "text/plain": [
       "(1, 121)"
      ]
     },
     "execution_count": 323,
     "metadata": {},
     "output_type": "execute_result"
    }
   ],
   "source": [
    "result.shape"
   ]
  },
  {
   "cell_type": "code",
   "execution_count": 411,
   "metadata": {
    "collapsed": false
   },
   "outputs": [
    {
     "data": {
      "image/png": "[encoded data removed]",
      "text/plain": [
       "<matplotlib.figure.Figure at 0x7f7e1309ec90>"
      ]
     },
     "metadata": {},
     "output_type": "display_data"
    }
   ],
   "source": [
    "N = 30\n",
    "result = loaded_model.predict([rgb[N:N+1,:,:,:], depth[N:N+1,:,:,:]])\n",
    "pose = [0.,0.,0.]\n",
    "\n",
    "vi.start_fig((3.3,2.1))\n",
    "# ax = fig.add_subplot(1, 1, 1)\n",
    "# vi.fov((0.,0.), -30, 30,100,fill=True, color='blue')\n",
    "\n",
    "vi.laser_plot2(np.mean(depth[N,15:35,:,:],axis=0).T[0],640,'g','RGB-D')\n",
    "vi.laser_plot2(laser[N,:],laser.shape[1],'b','Ground truth')\n",
    "vi.laser_plot2(result[0],laser.shape[1],'r--','Prediction')\n",
    "depth_new = np.mean(depth[N,15:35,:,:],axis=0).T[0]\n",
    "\n",
    "from scipy.interpolate import interp1d\n",
    "laser_fov = result[0]\n",
    "original_span = np.linspace(0,1,laser_fov.shape[0])\n",
    "f = interp1d(original_span,laser_fov)\n",
    "reduced_span = np.linspace(0,1,640)\n",
    "laser_fov = f(reduced_span)\n",
    "\n",
    "def bayes_update(prior_array, likelihood_array):\n",
    "    fused_out = []\n",
    "    for i in range(prior_array.shape[0]):\n",
    "        prior = prior_array[i]\n",
    "        likelihood = likelihood_array[i]\n",
    "        x = np.linspace(0,10,1000)\n",
    "        mu = prior\n",
    "        mu2 = likelihood\n",
    "        sigma = 1./10*(prior)**2\n",
    "        sigma2 = 1./(1+np.exp(-likelihood-4))\n",
    "        pz = 1./(2*np.pi*sigma**2)*np.exp(-(x-mu)**2/(2*sigma**2))\n",
    "        pdz = 1./(2*np.pi*sigma2**2)*np.exp(-(x-mu2)**2/(2*sigma2**2))\n",
    "        fused_out.append(x[np.argmax(pdz*pz)])\n",
    "    return fused_out\n",
    "# post = np.zeros(640)\n",
    "\n",
    "\n",
    "post = bayes_update(depth_new,laser_fov) \n",
    "\n",
    "    \n",
    "result_new = depth_new*np.exp(-(depth_new)**2/(2*2)**2)+laser_fov*np.exp(-(laser_fov+3)**2/(2*4)**2)\n",
    "vi.laser_plot2(post,result_new.shape[0],'m','Proposed')\n",
    "# vi.set_lim([-0.5,10],[-3,3.5],1,False)\n",
    "# vi.save_fig('007.pdf')"
   ]
  },
  {
   "cell_type": "code",
   "execution_count": 381,
   "metadata": {
    "collapsed": false
   },
   "outputs": [
    {
     "data": {
      "text/plain": [
       "(640,)"
      ]
     },
     "execution_count": 381,
     "metadata": {},
     "output_type": "execute_result"
    }
   ],
   "source": [
    "post_np = np.array(post)\n",
    "post_np.shape"
   ]
  },
  {
   "cell_type": "code",
   "execution_count": 327,
   "metadata": {
    "collapsed": false
   },
   "outputs": [],
   "source": [
    "def resample_data(data, num):\n",
    "    original_span = np.linspace(0,1,data.shape[0])\n",
    "    f = interp1d(original_span,data)\n",
    "    reduced_span = np.linspace(0,1,num)\n",
    "    return f(reduced_span)\n",
    "\n",
    "# new_scan = resample_data(result[0],121)\n",
    "# new_scan.shape"
   ]
  },
  {
   "cell_type": "code",
   "execution_count": null,
   "metadata": {
    "collapsed": false
   },
   "outputs": [],
   "source": []
  },
  {
   "cell_type": "code",
   "execution_count": 413,
   "metadata": {
    "collapsed": false
   },
   "outputs": [],
   "source": [
    "import random\n",
    "num_sample = 1000\n",
    "gt = []\n",
    "rgbd = []\n",
    "pred = []\n",
    "predb = []\n",
    "result = loaded_model.predict([rgb[N:N+1,:,:,:], depth[N:N+1,:,:,:]])\n",
    "for N in range(num_sample):\n",
    "    result = loaded_model.predict([rgb[N:N+1,:,:,:], depth[N:N+1,:,:,:]])\n",
    "    depth_new = np.mean(depth[N,15:35,:,:],axis=0).T[0]\n",
    "    laser_fov = result[0]\n",
    "    original_span = np.linspace(0,1,laser_fov.shape[0])\n",
    "    f = interp1d(original_span,laser_fov)\n",
    "    reduced_span = np.linspace(0,1,121)\n",
    "    laser_fov = f(reduced_span)\n",
    "    laser_rs = resample_data(laser[N,:],121)\n",
    "    depth_new =  resample_data(depth_new,121)\n",
    "    gt.append(laser[N,:])\n",
    "    rgbd.append(depth_new-laser[N,:])\n",
    "    pred.append(laser_fov-laser[N,:])\n",
    "    predb.append(bayes_update(depth_new,laser_fov)-laser[N,:])\n",
    "    \n",
    "\n",
    "preda = np.array(pred)\n",
    "preda = preda.flatten()\n",
    "predba = np.array(predb)\n",
    "predba = predba.flatten()\n",
    "\n",
    "gta = np.array(gt)\n",
    "gta = gta.flatten()\n",
    "\n",
    "rgbda = np.array(rgbd)\n",
    "rgbda = rgbda.flatten()"
   ]
  },
  {
   "cell_type": "code",
   "execution_count": 414,
   "metadata": {
    "collapsed": false,
    "scrolled": false
   },
   "outputs": [
    {
     "data": {
      "image/png": "[encoded data removed]",
      "text/plain": [
       "<matplotlib.figure.Figure at 0x7f7e19217c50>"
      ]
     },
     "metadata": {},
     "output_type": "display_data"
    }
   ],
   "source": [
    "# fig = plt.figure()\n",
    "# plt.errorbar(gta,gta,yerr=rgbda,ecolor='b')\n",
    "# plt.errorbar(gta,gta,yerr=preda,ecolor='r')\n",
    "\n",
    "\n",
    "histogram=plt.figure(figsize=(3.5,3), dpi=80)\n",
    "\n",
    "# x = [random.gauss(3,1) for _ in range(400)]\n",
    "# y = [random.gauss(4,2) for _ in range(400)]\n",
    "\n",
    "nbins = 16\n",
    "\n",
    "n, _ = np.histogram(gta, bins=nbins)\n",
    "sy, _ = np.histogram(gta, bins=nbins, weights=rgbda)\n",
    "sy2, _ = np.histogram(gta, bins=nbins, weights=rgbda*rgbda)\n",
    "mean = sy / n\n",
    "std = np.sqrt(sy2/n - mean*mean)\n",
    "plt.errorbar((_[1:] + _[:-1])/2, mean, yerr=std, fmt='g-',label='RGB-D camera')\n",
    "# bins = np.linspace(0, 10, 100)\n",
    "# plt.errorbar(gta,rgbd_a, alpha=0.5)\n",
    "\n",
    "n, _ = np.histogram(gta, bins=nbins)\n",
    "sy, _ = np.histogram(gta, bins=nbins, weights=preda)\n",
    "sy2, _ = np.histogram(gta, bins=nbins, weights=preda*preda)\n",
    "mean = sy / n\n",
    "std = np.sqrt(sy2/n - mean*mean)\n",
    "plt.errorbar((_[1:] + _[:-1])/2, mean, yerr=std, fmt='r-',label='CNN prediction')\n",
    "\n",
    "n, _ = np.histogram(gta, bins=nbins)\n",
    "sy, _ = np.histogram(gta, bins=nbins, weights=predba)\n",
    "sy2, _ = np.histogram(gta, bins=nbins, weights=predba*predba)\n",
    "mean = sy / n\n",
    "std = np.sqrt(sy2/n - mean*mean)\n",
    "plt.errorbar((_[1:] + _[:-1])/2, mean, yerr=std, fmt='b-',label='Proposed')\n",
    "\n",
    "# from matplotlib.backends.backend_pdf import PdfPages\n",
    "# plt.hist(y, bins, alpha=0.5)\n",
    "plt.ylabel('Mean error [m]')\n",
    "plt.xlabel('Distance [m]')\n",
    "plt.legend(loc='lower left',fontsize=10)\n",
    "plt.axis([0, 10, -5, 3])\n",
    "plt.grid()\n",
    "plt.tight_layout()\n",
    "pp = PdfPages('comparison.pdf')\n",
    "pp.savefig(histogram)\n",
    "pp.close()\n",
    "plt.show()\n",
    "\n",
    "\n",
    "\n",
    "# plot_url = py.plot_mpl(histogram, filename='docs/histogram-mpl-same')"
   ]
  },
  {
   "cell_type": "code",
   "execution_count": 285,
   "metadata": {
    "collapsed": false
   },
   "outputs": [],
   "source": [
    "import utils; reload(utils)\n",
    "import model_util; reload(model_util)\n",
    "from model_util import *\n",
    "from utils import *\n",
    "from IPython.display import FileLink\n",
    "%matplotlib inline\n",
    "from random import shuffle\n",
    "from matplotlib import rc\n",
    "# rc('font',**{'family':'sans-serif','sans-serif':['Helvetica']})\n",
    "rc('text', usetex=True)\n",
    "plt.rc('font', family='serif')\n",
    "vi = visualization()"
   ]
  },
  {
   "cell_type": "code",
   "execution_count": null,
   "metadata": {
    "collapsed": true
   },
   "outputs": [],
   "source": []
  }
 ],
 "metadata": {
  "anaconda-cloud": {},
  "kernelspec": {
   "display_name": "Python [conda root]",
   "language": "python",
   "name": "conda-root-py"
  },
  "language_info": {
   "codemirror_mode": {
    "name": "ipython",
    "version": 2
   },
   "file_extension": ".py",
   "mimetype": "text/x-python",
   "name": "python",
   "nbconvert_exporter": "python",
   "pygments_lexer": "ipython2",
   "version": "2.7.12"
  }
 },
 "nbformat": 4,
 "nbformat_minor": 1
}
