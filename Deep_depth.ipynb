{
 "cells": [
  {
   "cell_type": "code",
   "execution_count": 465,
   "metadata": {
    "collapsed": false
   },
   "outputs": [],
   "source": [
    "from theano.sandbox import cuda\n",
    "cuda.use('gpu0')\n",
    "import tensorflow\n",
    "import os, sys\n",
    "current_dir = os.getcwd()\n",
    "from keras.layers import Merge\n",
    "import time\n",
    "# import imageio\n",
    "from keras.models import model_from_json\n",
    "import bcolz\n",
    "import pdb\n",
    "import tensorflow as tf\n",
    "import pandas as pd\n",
    "from keras.callbacks import LearningRateScheduler\n",
    "from model import *"
   ]
  },
  {
   "cell_type": "code",
   "execution_count": 466,
   "metadata": {
    "collapsed": true
   },
   "outputs": [],
   "source": [
    "import utils; reload(utils)\n",
    "import model; reload(model)\n",
    "from model import *\n",
    "from utils import *\n",
    "from IPython.display import FileLink\n",
    "%matplotlib inline\n",
    "from random import shuffle"
   ]
  },
  {
   "cell_type": "code",
   "execution_count": 467,
   "metadata": {
    "collapsed": true
   },
   "outputs": [],
   "source": [
    "seed = 7\n",
    "np.random.seed(seed)"
   ]
  },
  {
   "cell_type": "code",
   "execution_count": 468,
   "metadata": {
    "collapsed": false
   },
   "outputs": [],
   "source": [
    "vi = visualization()\n",
    "dh = data_handler()\n",
    "laser, rgb, depth, ret = dh.load(data_path = 'data/sensor/')\n",
    "\n",
    "laser_shuffle = []\n",
    "rgb_shuffle = []\n",
    "depth_shuffle = []\n",
    "index_shuf = range(laser.shape[0])\n",
    "shuffle(index_shuf)\n",
    "for i in index_shuf:\n",
    "    laser_shuffle.append(laser[i])\n",
    "    rgb_shuffle.append(rgb[i])\n",
    "    depth_shuffle.append(depth[i])"
   ]
  },
  {
   "cell_type": "code",
   "execution_count": 469,
   "metadata": {
    "collapsed": false
   },
   "outputs": [
    {
     "name": "stdout",
     "output_type": "stream",
     "text": [
      "Laser: (5843, 233)\n",
      "Depth: (5843, 40, 640, 1)\n",
      "RGB: (5843, 40, 640, 3)\n"
     ]
    }
   ],
   "source": [
    "laser = np.array(laser_shuffle)\n",
    "rgb = np.array(rgb_shuffle)\n",
    "depth = np.array(depth_shuffle)\n",
    "\n",
    "# km = keras_model(output_shape = laser.shape[1])\n",
    "\n",
    "print 'Laser: ' + str(laser.shape)\n",
    "print 'Depth: ' + str(depth.shape)\n",
    "print 'RGB: ' + str(rgb.shape)\n",
    "N = laser.shape[0]\n",
    "rgb_train = rgb\n",
    "\n",
    "batch_size = 64\n",
    "no_of_epochs = 1\n",
    "# km.compile()"
   ]
  },
  {
   "cell_type": "code",
   "execution_count": 470,
   "metadata": {
    "collapsed": false
   },
   "outputs": [],
   "source": [
    "# km.final_model.fit([depth, rgb], laser, validation_split = 0.2,nb_epoch=no_of_epochs, batch_size=batch_size,callbacks=[km.tbCallback, km.lrate])"
   ]
  },
  {
   "cell_type": "code",
   "execution_count": 471,
   "metadata": {
    "collapsed": false
   },
   "outputs": [],
   "source": [
    "def mean_squared_error_exp(y_true, y_pred):\n",
    "#     diff = K.abs((y_true - y_pred) / K.clip(K.abs(y_true),K.epsilon(),None))\n",
    "    return K.mean(K.square(y_pred - y_true), axis=-1) + K.mean(K.square(tf.maximum(0.,y_pred-y_true)),axis=-1) + K.mean(K.square(tf.maximum(0.,-(y_pred+0.5))),axis=-1)\n",
    "#+ K.mean(tf.log(1.+tf.exp(y_pred-(y_true+0.3))) ,axis=-1)\n",
    "#+10.*K.mean(tf.log(1.+tf.exp(10.*(-y_pred+0.3))),axis=-1)+K.mean(tf.log(1+tf.exp(y_pred-(y_true+0.3))) ,axis=-1)\n",
    "#+100. * K.mean(diff, axis=-1)\n",
    "# (1e-6/(1+tf.exp(y_pred*100-0.3)"
   ]
  },
  {
   "cell_type": "code",
   "execution_count": 472,
   "metadata": {
    "collapsed": false
   },
   "outputs": [],
   "source": [
    "def conv1():\n",
    "    rgb_model = Sequential([\n",
    "            BatchNormalization(axis=1, input_shape=(40,640,3)),\n",
    "            Convolution2D(16,3,3, activation='relu',dim_ordering = 'tf'),\n",
    "            MaxPooling2D((2,2)),\n",
    "            BatchNormalization(axis=1),\n",
    "            Convolution2D(16,3,3, activation='relu',dim_ordering = 'tf'),\n",
    "            MaxPooling2D((2,3)),\n",
    "            BatchNormalization(axis=1),\n",
    "            Convolution2D(64,1,3, activation='relu',dim_ordering = 'tf'),\n",
    "#             Convolution2D(32,1,3, activation='relu',dim_ordering = 'tf'),\n",
    "            MaxPooling2D((1,4)),\n",
    "            BatchNormalization(axis=1),\n",
    "#             MaxPooling2D((1,3)),\n",
    "#             Convolution2D(64,1,11, activation='relu',dim_ordering = 'tf'),\n",
    "#             MaxPooling2D((2,3)),\n",
    "            Flatten()\n",
    "#             Dense(200, activation='relu'),\n",
    "#             BatchNormalization(),\n",
    "#             Dense(233, activation='linear')\n",
    "        ])\n",
    "    depth_model = Sequential([\n",
    "            BatchNormalization(axis=1, input_shape=(40,640,1)),\n",
    "            Convolution2D(16,3,3, activation='linear',border_mode='same',dim_ordering = 'tf'),\n",
    "            AveragePooling2D((2,2)),\n",
    "            BatchNormalization(axis=1),\n",
    "            Convolution2D(16,3,3, activation='relu',border_mode='same',dim_ordering = 'tf'),\n",
    "            Convolution2D(64,3,3, activation='relu',border_mode='same',dim_ordering = 'tf'),\n",
    "            AveragePooling2D((2,2)),\n",
    "            BatchNormalization(axis=1),\n",
    "            Convolution2D(64,1,3, activation='relu',dim_ordering = 'tf'),\n",
    "            AveragePooling2D((2,4)),\n",
    "            BatchNormalization(axis=1),\n",
    "#             Convolution2D(128,1,3, activation='relu',border_mode='same',dim_ordering = 'tf'),\n",
    "#             AveragePooling2D((2,5)),\n",
    "#             BatchNormalization(axis=1),\n",
    "            Flatten()\n",
    "#             Dense(640, activation='relu')\n",
    "#             Dense(512, activation='relu')\n",
    "#             Dense(640, activation='relu')\n",
    "#             BatchNormalization()\n",
    "#             Dense(233, activation='linear')\n",
    "        ]) \n",
    "    final_model = Sequential()\n",
    "    final_model.add(Merge([rgb_model, depth_model],mode='concat'))\n",
    "    final_model.add(Dropout(0.6))\n",
    "    final_model.add(BatchNormalization())\n",
    "    final_model.add(Dense(512, activation='relu',init='lecun_uniform'))\n",
    "    final_model.add(Dropout(0.5))\n",
    "    final_model.add(BatchNormalization())\n",
    "    final_model.add(Dense(233, activation='linear', init='lecun_uniform'))\n",
    "    \n",
    "\n",
    "#     model.fit_generator([rgb, laser],laser.shape[0], nb_epoch=no_of_epochs)\n",
    "#     model.optimizer.lr = 0.001\n",
    "#     model.fit_generator(depth, laser, validation_split = 0.2,nb_epoch=no_of_epochs, batch_size=batch_size)\n",
    "    return final_model\n",
    "\n",
    "model = conv1()\n",
    "sgd = SGD(lr=0.0, decay=1e-4, momentum=0.9, nesterov=True)\n",
    "model.compile(optimizer = sgd, loss='mse')\n",
    "# mean_squared_error_exp"
   ]
  },
  {
   "cell_type": "code",
   "execution_count": 473,
   "metadata": {
    "collapsed": false
   },
   "outputs": [
    {
     "name": "stdout",
     "output_type": "stream",
     "text": [
      "____________________________________________________________________________________________________\n",
      "Layer (type)                     Output Shape          Param #     Connected to                     \n",
      "====================================================================================================\n",
      "batchnormalization_245 (BatchNor (None, 40, 640, 3)    160                                          \n",
      "____________________________________________________________________________________________________\n",
      "convolution2d_176 (Convolution2D (None, 38, 638, 16)   448                                          \n",
      "____________________________________________________________________________________________________\n",
      "maxpooling2d_76 (MaxPooling2D)   (None, 19, 319, 16)   0                                            \n",
      "____________________________________________________________________________________________________\n",
      "batchnormalization_246 (BatchNor (None, 19, 319, 16)   76                                           \n",
      "____________________________________________________________________________________________________\n",
      "convolution2d_177 (Convolution2D (None, 17, 317, 16)   2320                                         \n",
      "____________________________________________________________________________________________________\n",
      "maxpooling2d_77 (MaxPooling2D)   (None, 8, 105, 16)    0                                            \n",
      "____________________________________________________________________________________________________\n",
      "batchnormalization_247 (BatchNor (None, 8, 105, 16)    32                                           \n",
      "____________________________________________________________________________________________________\n",
      "convolution2d_178 (Convolution2D (None, 8, 103, 64)    3136                                         \n",
      "____________________________________________________________________________________________________\n",
      "maxpooling2d_78 (MaxPooling2D)   (None, 8, 25, 64)     0                                            \n",
      "____________________________________________________________________________________________________\n",
      "batchnormalization_248 (BatchNor (None, 8, 25, 64)     32                                           \n",
      "____________________________________________________________________________________________________\n",
      "flatten_51 (Flatten)             (None, 12800)         0                                            \n",
      "____________________________________________________________________________________________________\n",
      "batchnormalization_249 (BatchNor (None, 40, 640, 1)    160                                          \n",
      "____________________________________________________________________________________________________\n",
      "convolution2d_179 (Convolution2D (None, 40, 640, 16)   160                                          \n",
      "____________________________________________________________________________________________________\n",
      "averagepooling2d_76 (AveragePool (None, 20, 320, 16)   0                                            \n",
      "____________________________________________________________________________________________________\n",
      "batchnormalization_250 (BatchNor (None, 20, 320, 16)   80                                           \n",
      "____________________________________________________________________________________________________\n",
      "convolution2d_180 (Convolution2D (None, 20, 320, 16)   2320                                         \n",
      "____________________________________________________________________________________________________\n",
      "convolution2d_181 (Convolution2D (None, 20, 320, 64)   9280                                         \n",
      "____________________________________________________________________________________________________\n",
      "averagepooling2d_77 (AveragePool (None, 10, 160, 64)   0                                            \n",
      "____________________________________________________________________________________________________\n",
      "batchnormalization_251 (BatchNor (None, 10, 160, 64)   40                                           \n",
      "____________________________________________________________________________________________________\n",
      "convolution2d_182 (Convolution2D (None, 10, 158, 64)   12352                                        \n",
      "____________________________________________________________________________________________________\n",
      "averagepooling2d_78 (AveragePool (None, 5, 39, 64)     0                                            \n",
      "____________________________________________________________________________________________________\n",
      "batchnormalization_252 (BatchNor (None, 5, 39, 64)     20                                           \n",
      "____________________________________________________________________________________________________\n",
      "flatten_52 (Flatten)             (None, 12480)         0                                            \n",
      "____________________________________________________________________________________________________\n",
      "dropout_54 (Dropout)             (None, 25280)         0           merge_26[0][0]                   \n",
      "____________________________________________________________________________________________________\n",
      "batchnormalization_253 (BatchNor (None, 25280)         101120      dropout_54[0][0]                 \n",
      "____________________________________________________________________________________________________\n",
      "dense_46 (Dense)                 (None, 512)           12943872    batchnormalization_253[0][0]     \n",
      "____________________________________________________________________________________________________\n",
      "dropout_55 (Dropout)             (None, 512)           0           dense_46[0][0]                   \n",
      "____________________________________________________________________________________________________\n",
      "batchnormalization_254 (BatchNor (None, 512)           2048        dropout_55[0][0]                 \n",
      "____________________________________________________________________________________________________\n",
      "dense_47 (Dense)                 (None, 233)           119529      batchnormalization_254[0][0]     \n",
      "====================================================================================================\n",
      "Total params: 13,197,185\n",
      "Trainable params: 13,145,301\n",
      "Non-trainable params: 51,884\n",
      "____________________________________________________________________________________________________\n"
     ]
    }
   ],
   "source": [
    "model.summary()"
   ]
  },
  {
   "cell_type": "code",
   "execution_count": 474,
   "metadata": {
    "collapsed": false
   },
   "outputs": [],
   "source": [
    "#model.load_weights('models/model_notebook.h5')"
   ]
  },
  {
   "cell_type": "code",
   "execution_count": 475,
   "metadata": {
    "collapsed": false
   },
   "outputs": [],
   "source": [
    "def step_decay(epoch):\n",
    "    initial_lrate = 0.1\n",
    "    drop = 0.5\n",
    "    epochs_drop = 10.0\n",
    "    lrate = initial_lrate * math.pow(drop, math.floor((1+epoch)/epochs_drop))\n",
    "    return lrate\n",
    "lrate = LearningRateScheduler(step_decay)"
   ]
  },
  {
   "cell_type": "code",
   "execution_count": 476,
   "metadata": {
    "collapsed": false
   },
   "outputs": [],
   "source": [
    "# model.optimizer.lr=0.1\n",
    "# tbCallback=keras.callbacks.TensorBoard(log_dir='./logs', histogram_freq=0, write_graph=True, write_images=False)"
   ]
  },
  {
   "cell_type": "code",
   "execution_count": 488,
   "metadata": {
    "collapsed": false,
    "scrolled": true
   },
   "outputs": [
    {
     "name": "stdout",
     "output_type": "stream",
     "text": [
      "Train on 4640 samples, validate on 1160 samples\n",
      "Epoch 1/100\n",
      "4640/4640 [==============================] - 355s - loss: 1.1810 - val_loss: 1.8942\n",
      "Epoch 2/100\n",
      "4640/4640 [==============================] - 348s - loss: 1.1982 - val_loss: 1.5933\n",
      "Epoch 3/100\n",
      "4640/4640 [==============================] - 237s - loss: 1.2346 - val_loss: 3.7400\n",
      "Epoch 4/100\n",
      "4640/4640 [==============================] - 436s - loss: 1.2216 - val_loss: 1.6833\n",
      "Epoch 5/100\n",
      "4640/4640 [==============================] - 434s - loss: 1.2013 - val_loss: 1.6947\n",
      "Epoch 6/100\n",
      "4640/4640 [==============================] - 457s - loss: 1.2210 - val_loss: 7.7775\n",
      "Epoch 7/100\n",
      "4640/4640 [==============================] - 440s - loss: 1.2519 - val_loss: 1.6986\n",
      "Epoch 8/100\n",
      "4640/4640 [==============================] - 437s - loss: 1.2018 - val_loss: 1.7011\n",
      "Epoch 9/100\n",
      "4640/4640 [==============================] - 437s - loss: 1.1908 - val_loss: 1.5627\n",
      "Epoch 10/100\n",
      "4640/4640 [==============================] - 438s - loss: 1.1426 - val_loss: 1.6424\n",
      "Epoch 11/100\n",
      "4640/4640 [==============================] - 440s - loss: 1.1112 - val_loss: 1.7209\n",
      "Epoch 12/100\n",
      "4640/4640 [==============================] - 244s - loss: 1.1093 - val_loss: 1.4892\n",
      "Epoch 13/100\n",
      "4640/4640 [==============================] - 295s - loss: 1.0943 - val_loss: 1.4975\n",
      "Epoch 14/100\n",
      "4640/4640 [==============================] - 297s - loss: 1.0757 - val_loss: 1.4978\n",
      "Epoch 15/100\n",
      "4640/4640 [==============================] - 192s - loss: 1.0848 - val_loss: 1.4773\n",
      "Epoch 16/100\n",
      "4640/4640 [==============================] - 252s - loss: 1.0681 - val_loss: 1.4566\n",
      "Epoch 17/100\n",
      "4640/4640 [==============================] - 249s - loss: 1.0303 - val_loss: 1.4565\n",
      "Epoch 18/100\n",
      "4640/4640 [==============================] - 215s - loss: 1.0638 - val_loss: 1.5960\n",
      "Epoch 19/100\n",
      "4640/4640 [==============================] - 193s - loss: 1.0420 - val_loss: 1.5461\n",
      "Epoch 20/100\n",
      "4640/4640 [==============================] - 195s - loss: 1.0310 - val_loss: 1.4785\n",
      "Epoch 21/100\n",
      "4640/4640 [==============================] - 194s - loss: 1.0335 - val_loss: 1.6961\n",
      "Epoch 22/100\n",
      "4640/4640 [==============================] - 194s - loss: 1.0181 - val_loss: 1.4693\n",
      "Epoch 23/100\n",
      "4640/4640 [==============================] - 192s - loss: 1.0331 - val_loss: 1.5029\n",
      "Epoch 24/100\n",
      "4640/4640 [==============================] - 192s - loss: 0.9765 - val_loss: 1.4706\n",
      "Epoch 25/100\n",
      "4640/4640 [==============================] - 190s - loss: 1.0109 - val_loss: 1.5056\n",
      "Epoch 26/100\n",
      "4640/4640 [==============================] - 193s - loss: 1.0182 - val_loss: 1.4709\n",
      "Epoch 27/100\n",
      "4640/4640 [==============================] - 195s - loss: 0.9830 - val_loss: 1.5136\n",
      "Epoch 28/100\n",
      "4640/4640 [==============================] - 192s - loss: 0.9933 - val_loss: 1.7713\n",
      "Epoch 29/100\n",
      "4640/4640 [==============================] - 195s - loss: 1.0158 - val_loss: 1.4413\n",
      "Epoch 30/100\n",
      "4640/4640 [==============================] - 193s - loss: 0.9989 - val_loss: 1.4517\n",
      "Epoch 31/100\n",
      "4640/4640 [==============================] - 194s - loss: 0.9717 - val_loss: 1.4394\n",
      "Epoch 32/100\n",
      "4640/4640 [==============================] - 321s - loss: 0.9842 - val_loss: 1.4226\n",
      "Epoch 33/100\n",
      "4640/4640 [==============================] - 438s - loss: 0.9858 - val_loss: 1.5030\n",
      "Epoch 34/100\n",
      "4640/4640 [==============================] - 435s - loss: 0.9642 - val_loss: 1.4745\n",
      "Epoch 35/100\n",
      "4640/4640 [==============================] - 307s - loss: 0.9722 - val_loss: 1.4364\n",
      "Epoch 36/100\n",
      "4640/4640 [==============================] - 192s - loss: 0.9754 - val_loss: 1.4217\n",
      "Epoch 37/100\n",
      "4640/4640 [==============================] - 192s - loss: 0.9868 - val_loss: 1.4413\n",
      "Epoch 38/100\n",
      "4640/4640 [==============================] - 192s - loss: 0.9779 - val_loss: 1.4060\n",
      "Epoch 39/100\n",
      "4640/4640 [==============================] - 191s - loss: 0.9501 - val_loss: 1.4263\n",
      "Epoch 40/100\n",
      "4640/4640 [==============================] - 194s - loss: 0.9764 - val_loss: 1.4229\n",
      "Epoch 41/100\n",
      "4640/4640 [==============================] - 195s - loss: 0.9436 - val_loss: 1.3985\n",
      "Epoch 42/100\n",
      "4640/4640 [==============================] - 193s - loss: 0.9627 - val_loss: 1.4253\n",
      "Epoch 43/100\n",
      "4640/4640 [==============================] - 192s - loss: 0.9493 - val_loss: 1.4299\n",
      "Epoch 44/100\n",
      "4640/4640 [==============================] - 194s - loss: 0.9497 - val_loss: 1.4159\n",
      "Epoch 45/100\n",
      "4640/4640 [==============================] - 197s - loss: 0.9319 - val_loss: 1.4260\n",
      "Epoch 46/100\n",
      "4640/4640 [==============================] - 195s - loss: 0.9235 - val_loss: 1.4226\n",
      "Epoch 47/100\n",
      "4640/4640 [==============================] - 199s - loss: 0.9430 - val_loss: 1.4173\n",
      "Epoch 48/100\n",
      "4640/4640 [==============================] - 196s - loss: 0.9534 - val_loss: 1.4290\n",
      "Epoch 49/100\n",
      "4640/4640 [==============================] - 194s - loss: 0.9401 - val_loss: 1.4166\n",
      "Epoch 50/100\n",
      "4640/4640 [==============================] - 195s - loss: 0.9324 - val_loss: 1.4415\n",
      "Epoch 51/100\n",
      "4640/4640 [==============================] - 194s - loss: 0.9444 - val_loss: 1.4290\n",
      "Epoch 52/100\n",
      "4640/4640 [==============================] - 192s - loss: 0.9324 - val_loss: 1.4194\n",
      "Epoch 53/100\n",
      "4640/4640 [==============================] - 195s - loss: 0.9363 - val_loss: 1.4183\n",
      "Epoch 54/100\n",
      "4640/4640 [==============================] - 196s - loss: 0.9280 - val_loss: 1.4331\n",
      "Epoch 55/100\n",
      "4640/4640 [==============================] - 270s - loss: 0.9530 - val_loss: 1.4103\n",
      "Epoch 56/100\n",
      "4640/4640 [==============================] - 226s - loss: 0.9228 - val_loss: 1.4528\n",
      "Epoch 57/100\n",
      "4640/4640 [==============================] - 193s - loss: 0.9356 - val_loss: 1.4397\n",
      "Epoch 58/100\n",
      "4640/4640 [==============================] - 192s - loss: 0.9324 - val_loss: 1.4231\n",
      "Epoch 59/100\n",
      "4640/4640 [==============================] - 192s - loss: 0.9418 - val_loss: 1.4186\n",
      "Epoch 60/100\n",
      "4640/4640 [==============================] - 193s - loss: 0.9299 - val_loss: 1.4264\n",
      "Epoch 61/100\n",
      "4640/4640 [==============================] - 193s - loss: 0.9263 - val_loss: 1.4259\n",
      "Epoch 62/100\n",
      "4640/4640 [==============================] - 194s - loss: 0.9541 - val_loss: 1.4253\n",
      "Epoch 63/100\n",
      "4640/4640 [==============================] - 191s - loss: 0.9484 - val_loss: 1.4194\n",
      "Epoch 64/100\n",
      "4640/4640 [==============================] - 195s - loss: 0.9462 - val_loss: 1.4286\n",
      "Epoch 65/100\n",
      "4640/4640 [==============================] - 201s - loss: 0.9241 - val_loss: 1.4460\n",
      "Epoch 66/100\n",
      "4640/4640 [==============================] - 242s - loss: 0.9300 - val_loss: 1.4321\n",
      "Epoch 67/100\n",
      "4640/4640 [==============================] - 195s - loss: 0.9358 - val_loss: 1.4239\n",
      "Epoch 68/100\n",
      "4640/4640 [==============================] - 195s - loss: 0.9359 - val_loss: 1.4061\n",
      "Epoch 69/100\n",
      "4640/4640 [==============================] - 194s - loss: 0.9366 - val_loss: 1.4209\n",
      "Epoch 70/100\n",
      "4640/4640 [==============================] - 193s - loss: 0.9387 - val_loss: 1.4219\n",
      "Epoch 71/100\n",
      "4640/4640 [==============================] - 197s - loss: 0.9231 - val_loss: 1.4199\n",
      "Epoch 72/100\n",
      "4640/4640 [==============================] - 201s - loss: 0.9100 - val_loss: 1.4181\n",
      "Epoch 73/100\n",
      "4640/4640 [==============================] - 257s - loss: 0.9367 - val_loss: 1.4230\n",
      "Epoch 74/100\n",
      "4640/4640 [==============================] - 195s - loss: 0.9355 - val_loss: 1.4223\n",
      "Epoch 75/100\n",
      "4640/4640 [==============================] - 191s - loss: 0.9296 - val_loss: 1.4167\n",
      "Epoch 76/100\n",
      "4640/4640 [==============================] - 190s - loss: 0.9043 - val_loss: 1.4248\n",
      "Epoch 77/100\n",
      "4640/4640 [==============================] - 194s - loss: 0.9203 - val_loss: 1.4386\n",
      "Epoch 78/100\n",
      "4640/4640 [==============================] - 196s - loss: 0.9249 - val_loss: 1.4234\n",
      "Epoch 79/100\n",
      "4640/4640 [==============================] - 192s - loss: 0.9145 - val_loss: 1.4278\n",
      "Epoch 80/100\n",
      "4640/4640 [==============================] - 193s - loss: 0.9210 - val_loss: 1.4191\n",
      "Epoch 81/100\n",
      "4640/4640 [==============================] - 192s - loss: 0.9366 - val_loss: 1.4200\n",
      "Epoch 82/100\n",
      "4640/4640 [==============================] - 193s - loss: 0.9104 - val_loss: 1.4211\n",
      "Epoch 83/100\n",
      "4640/4640 [==============================] - 206s - loss: 0.9202 - val_loss: 1.4174\n",
      "Epoch 84/100\n",
      "4640/4640 [==============================] - 203s - loss: 0.9221 - val_loss: 1.4206\n",
      "Epoch 85/100\n",
      "4640/4640 [==============================] - 194s - loss: 0.9521 - val_loss: 1.4219\n",
      "Epoch 86/100\n",
      "4640/4640 [==============================] - 193s - loss: 0.9394 - val_loss: 1.4279\n",
      "Epoch 87/100\n",
      "4640/4640 [==============================] - 220s - loss: 0.9234 - val_loss: 1.4248\n",
      "Epoch 88/100\n",
      "4640/4640 [==============================] - 195s - loss: 0.9446 - val_loss: 1.4275\n",
      "Epoch 89/100\n",
      "4640/4640 [==============================] - 191s - loss: 0.9263 - val_loss: 1.4231\n",
      "Epoch 90/100\n",
      "4640/4640 [==============================] - 194s - loss: 0.9373 - val_loss: 1.4259\n",
      "Epoch 91/100\n",
      "4640/4640 [==============================] - 191s - loss: 0.9205 - val_loss: 1.4223\n",
      "Epoch 92/100\n",
      "4640/4640 [==============================] - 264s - loss: 0.9455 - val_loss: 1.4203\n",
      "Epoch 93/100\n",
      "4640/4640 [==============================] - 218s - loss: 0.9382 - val_loss: 1.4225\n",
      "Epoch 94/100\n",
      "4640/4640 [==============================] - 331s - loss: 0.9094 - val_loss: 1.4254\n",
      "Epoch 95/100\n",
      "4640/4640 [==============================] - 242s - loss: 0.9296 - val_loss: 1.4196\n",
      "Epoch 96/100\n",
      "4640/4640 [==============================] - 195s - loss: 0.9187 - val_loss: 1.4172\n",
      "Epoch 97/100\n",
      "4640/4640 [==============================] - 222s - loss: 0.9477 - val_loss: 1.4214\n",
      "Epoch 98/100\n",
      "4640/4640 [==============================] - 254s - loss: 0.9197 - val_loss: 1.4210\n",
      "Epoch 99/100\n",
      "4640/4640 [==============================] - 194s - loss: 0.9432 - val_loss: 1.4197\n",
      "Epoch 100/100\n",
      "4640/4640 [==============================] - 195s - loss: 0.9162 - val_loss: 1.4188\n"
     ]
    },
    {
     "data": {
      "text/plain": [
       "<keras.callbacks.History at 0x7f37de768b50>"
      ]
     },
     "execution_count": 488,
     "metadata": {},
     "output_type": "execute_result"
    }
   ],
   "source": [
    "N_s = 0\n",
    "N = N_s + 5800\n",
    "laser_s = laser[N_s:N,:]\n",
    "rgb_s = rgb[N_s:N,:,:,:]\n",
    "depth_s = depth[N_s:N,:,:]\n",
    "batch_size = 64\n",
    "no_of_epochs = 100\n",
    "# validation_split = 0.2\n",
    "model.fit([rgb_s,depth_s], laser_s, nb_epoch=no_of_epochs, validation_split = 0.2, batch_size=batch_size,callbacks=[lrate])"
   ]
  },
  {
   "cell_type": "code",
   "execution_count": 496,
   "metadata": {
    "collapsed": false
   },
   "outputs": [
    {
     "data": {
      "text/plain": [
       "[<matplotlib.lines.Line2D at 0x7f37d5745f50>]"
      ]
     },
     "execution_count": 496,
     "metadata": {},
     "output_type": "execute_result"
    },
    {
     "data": {
      "image/png": "[encoded data removed]",
      "text/plain": [
       "<matplotlib.figure.Figure at 0x7f37d57ab150>"
      ]
     },
     "metadata": {},
     "output_type": "display_data"
    }
   ],
   "source": [
    "N = 4500\n",
    "# result = model.predict([depth[N:N+1,:,:,:]])\n",
    "result = model.predict([rgb[N:N+1,:,:,:], depth[N:N+1,:,:,:]])\n",
    "pose = [0.,0.,0.]\n",
    "vi.depth_plot(np.mean(depth[N,15:35,:,:],axis=0),pose)\n",
    "vi.laser_plot(laser[N,:],pose)\n",
    "vi.laser_plot2(result[0],pose)\n",
    "plt.plot(0,0,'or')"
   ]
  },
  {
   "cell_type": "code",
   "execution_count": 479,
   "metadata": {
    "collapsed": false
   },
   "outputs": [
    {
     "data": {
      "text/plain": [
       "array([[ 5.5462,  5.9255,  5.8131,  5.8064,  5.87  ,  5.9383,  5.6221,  5.4509,  5.7628,  5.6558,\n",
       "         5.4509,  5.886 ,  6.0673,  5.9164,  5.9588,  6.1558,  5.9831,  6.0311,  5.8331,  5.6036,\n",
       "         5.6095,  5.2757,  5.5735,  5.4374,  5.4898,  5.456 ,  5.465 ,  5.3735,  5.0352,  4.8171,\n",
       "         4.9657,  4.8404,  4.58  ,  4.7014,  4.5618,  4.6617,  4.7934,  4.954 ,  4.9521,  5.0212,\n",
       "         5.0552,  5.0527,  4.9574,  5.2319,  5.0851,  5.2047,  5.3807,  5.3234,  5.5696,  5.3723,\n",
       "         5.6918,  5.5558,  5.4399,  5.6571,  5.5447,  5.3257,  5.3109,  5.077 ,  5.4054,  5.4006,\n",
       "         5.3415,  5.3605,  5.4141,  5.176 ,  5.2676,  4.9509,  5.0203,  5.206 ,  5.0897,  5.0747,\n",
       "         5.1385,  4.8448,  4.885 ,  5.0117,  5.0023,  4.8284,  4.921 ,  4.8648,  5.0365,  4.9051,\n",
       "         5.0637,  4.7242,  4.9003,  4.999 ,  4.6692,  4.9293,  4.7317,  4.8337,  4.518 ,  4.6623,\n",
       "         4.8582,  4.7707,  4.7154,  4.5785,  4.5488,  4.7771,  4.8737,  4.6738,  4.8156,  5.0425,\n",
       "         4.9304,  5.2062,  4.8452,  4.8311,  4.6427,  4.6513,  4.5557,  5.1111,  5.0403,  4.6949,\n",
       "         4.6799,  4.3711,  4.4986,  4.5595,  4.5348,  4.3537,  4.4255,  4.394 ,  4.5159,  4.5486,\n",
       "         4.3447,  4.5842,  4.4798,  4.5932,  4.6338,  4.2295,  4.5493,  4.7244,  4.7991,  4.6421,\n",
       "         4.995 ,  5.2432,  5.0725,  5.0946,  5.1317,  5.5484,  4.9056,  5.1592,  4.9367,  5.1095,\n",
       "         4.9052,  5.0961,  5.2109,  5.1918,  5.0471,  5.5789,  5.1173,  5.3072,  5.3121,  5.5266,\n",
       "         5.621 ,  5.7888,  5.3771,  5.8539,  5.9934,  6.0115,  5.9746,  6.2375,  6.0574,  6.2667,\n",
       "         6.2188,  6.0804,  6.3609,  6.5477,  6.1672,  6.691 ,  6.5188,  6.5128,  6.7058,  6.3713,\n",
       "         6.4725,  6.4898,  6.7014,  6.7479,  6.5794,  6.8575,  6.8915,  6.6803,  7.0185,  6.7109,\n",
       "         6.6509,  6.3916,  6.9283,  6.6982,  6.7632,  6.9804,  6.8409,  7.0024,  6.1407,  5.8769,\n",
       "         6.2855,  5.8569,  6.2629,  6.4542,  6.6212,  6.4881,  6.9157,  6.8076,  6.8996,  7.2046,\n",
       "         7.1009,  6.8208,  6.6889,  6.97  ,  6.5694,  6.8135,  6.6401,  7.3351,  6.8261,  6.8993,\n",
       "         6.7489,  6.9808,  6.8224,  6.6824,  6.8959,  6.6198,  6.5383,  6.1779,  6.3828,  6.4543,\n",
       "         6.6073,  6.2993,  6.4278,  6.2422,  6.601 ,  6.4609,  6.5467,  6.6899,  6.6481,  6.6141,\n",
       "         6.5744,  6.6912,  6.5771]], dtype=float32)"
      ]
     },
     "execution_count": 479,
     "metadata": {},
     "output_type": "execute_result"
    }
   ],
   "source": [
    "result"
   ]
  },
  {
   "cell_type": "code",
   "execution_count": 497,
   "metadata": {
    "collapsed": false
   },
   "outputs": [
    {
     "name": "stdout",
     "output_type": "stream",
     "text": [
      "Saved model to disk\n"
     ]
    }
   ],
   "source": [
    "model_json = model.to_json()\n",
    "with open(\"models/model.json\", \"w\") as json_file:\n",
    "    json_file.write(model_json)\n",
    "# serialize weights to HDF5\n",
    "json_file.close()\n",
    "model.save_weights(\"models/model_notebook.h5\")\n",
    "print(\"Saved model to disk\")"
   ]
  },
  {
   "cell_type": "code",
   "execution_count": null,
   "metadata": {
    "collapsed": true
   },
   "outputs": [],
   "source": []
  }
 ],
 "metadata": {
  "anaconda-cloud": {},
  "kernelspec": {
   "display_name": "Python [conda root]",
   "language": "python",
   "name": "conda-root-py"
  },
  "language_info": {
   "codemirror_mode": {
    "name": "ipython",
    "version": 2
   },
   "file_extension": ".py",
   "mimetype": "text/x-python",
   "name": "python",
   "nbconvert_exporter": "python",
   "pygments_lexer": "ipython2",
   "version": "2.7.12"
  }
 },
 "nbformat": 4,
 "nbformat_minor": 1
}
